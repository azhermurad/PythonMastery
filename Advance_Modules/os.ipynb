{
 "cells": [
  {
   "cell_type": "code",
   "execution_count": 1,
   "metadata": {},
   "outputs": [],
   "source": [
    "import os"
   ]
  },
  {
   "cell_type": "code",
   "execution_count": 2,
   "metadata": {},
   "outputs": [
    {
     "data": {
      "text/plain": [
       "'/home/jamxt/Documents/python/Advance_Modules'"
      ]
     },
     "execution_count": 2,
     "metadata": {},
     "output_type": "execute_result"
    }
   ],
   "source": [
    "os.getcwd() # get current working directory of the script"
   ]
  },
  {
   "cell_type": "code",
   "execution_count": 3,
   "metadata": {},
   "outputs": [],
   "source": [
    "os.chdir('../')"
   ]
  },
  {
   "cell_type": "code",
   "execution_count": 4,
   "metadata": {},
   "outputs": [
    {
     "data": {
      "text/plain": [
       "'/home/jamxt/Documents/python'"
      ]
     },
     "execution_count": 4,
     "metadata": {},
     "output_type": "execute_result"
    }
   ],
   "source": [
    "os.getcwd()"
   ]
  },
  {
   "cell_type": "code",
   "execution_count": 5,
   "metadata": {},
   "outputs": [
    {
     "data": {
      "text/plain": [
       "'/home/jamxt/Documents/python'"
      ]
     },
     "execution_count": 5,
     "metadata": {},
     "output_type": "execute_result"
    }
   ],
   "source": [
    "os.getcwd()"
   ]
  },
  {
   "cell_type": "code",
   "execution_count": 6,
   "metadata": {},
   "outputs": [
    {
     "data": {
      "text/plain": [
       "['Advance_Modules',\n",
       " ' Errors_and_Exceptions_Handling',\n",
       " 'Decorators_and_Generators',\n",
       " 'Python_Funcations',\n",
       " 'Python_Statements',\n",
       " 'Modules',\n",
       " '.ipynb_checkpoints',\n",
       " 'Data-Structure-and-Objects',\n",
       " 'Object_Oriented_Programming ',\n",
       " ' Python_Comparison_Operators',\n",
       " '.git']"
      ]
     },
     "execution_count": 6,
     "metadata": {},
     "output_type": "execute_result"
    }
   ],
   "source": [
    "os.listdir()"
   ]
  },
  {
   "cell_type": "code",
   "execution_count": 15,
   "metadata": {},
   "outputs": [],
   "source": [
    "# os.chdir(\"/\")"
   ]
  },
  {
   "cell_type": "code",
   "execution_count": 7,
   "metadata": {},
   "outputs": [
    {
     "data": {
      "text/plain": [
       "'/home/jamxt/Documents/python'"
      ]
     },
     "execution_count": 7,
     "metadata": {},
     "output_type": "execute_result"
    }
   ],
   "source": [
    "os.getcwd()"
   ]
  },
  {
   "cell_type": "code",
   "execution_count": 8,
   "metadata": {},
   "outputs": [
    {
     "data": {
      "text/plain": [
       "'/home/jamxt/Documents/python'"
      ]
     },
     "execution_count": 8,
     "metadata": {},
     "output_type": "execute_result"
    }
   ],
   "source": [
    "pwd"
   ]
  },
  {
   "cell_type": "code",
   "execution_count": 9,
   "metadata": {},
   "outputs": [
    {
     "data": {
      "text/plain": [
       "'/home/jamxt/Documents/python'"
      ]
     },
     "execution_count": 9,
     "metadata": {},
     "output_type": "execute_result"
    }
   ],
   "source": [
    "pwd"
   ]
  },
  {
   "cell_type": "code",
   "execution_count": 12,
   "metadata": {},
   "outputs": [
    {
     "data": {
      "text/plain": [
       "'/home/jamxt/Documents/python'"
      ]
     },
     "execution_count": 12,
     "metadata": {},
     "output_type": "execute_result"
    }
   ],
   "source": [
    "os.path.join(os.getcwd())"
   ]
  },
  {
   "cell_type": "code",
   "execution_count": 70,
   "metadata": {},
   "outputs": [],
   "source": [
    "os.makedirs(\"parent_directory/child_directory\")"
   ]
  },
  {
   "cell_type": "code",
   "execution_count": null,
   "metadata": {},
   "outputs": [],
   "source": [
    "os.removedirs(\"parent_directory\")"
   ]
  },
  {
   "cell_type": "code",
   "execution_count": null,
   "metadata": {},
   "outputs": [],
   "source": [
    "os.rmdir(\"parent_directory\")"
   ]
  },
  {
   "cell_type": "code",
   "execution_count": 54,
   "metadata": {},
   "outputs": [],
   "source": [
    "path =os.path.join(os.getcwd(),'parent_directory/child_directory')"
   ]
  },
  {
   "cell_type": "code",
   "execution_count": 55,
   "metadata": {},
   "outputs": [
    {
     "data": {
      "text/plain": [
       "True"
      ]
     },
     "execution_count": 55,
     "metadata": {},
     "output_type": "execute_result"
    }
   ],
   "source": [
    "os.path.exists(path)"
   ]
  },
  {
   "cell_type": "code",
   "execution_count": 56,
   "metadata": {},
   "outputs": [
    {
     "data": {
      "text/plain": [
       "['Advance_Modules',\n",
       " 'new',\n",
       " ' Errors_and_Exceptions_Handling',\n",
       " 'Decorators_and_Generators',\n",
       " 'Python_Funcations',\n",
       " 'Python_Statements',\n",
       " 'Modules',\n",
       " '.ipynb_checkpoints',\n",
       " 'parent_directory',\n",
       " 'Data-Structure-and-Objects',\n",
       " 'Object_Oriented_Programming ',\n",
       " ' Python_Comparison_Operators',\n",
       " '.git']"
      ]
     },
     "execution_count": 56,
     "metadata": {},
     "output_type": "execute_result"
    }
   ],
   "source": [
    "os.listdir()"
   ]
  },
  {
   "cell_type": "code",
   "execution_count": null,
   "metadata": {},
   "outputs": [],
   "source": [
    "import shutil\n",
    "\n",
    "shutil.rmtree(os.path.join(os.getcwd(),\"parent_directory\"))"
   ]
  },
  {
   "cell_type": "code",
   "execution_count": null,
   "metadata": {},
   "outputs": [],
   "source": []
  },
  {
   "cell_type": "code",
   "execution_count": 66,
   "metadata": {},
   "outputs": [
    {
     "data": {
      "text/plain": [
       "'/home/jamxt/Documents/python/parent_directory'"
      ]
     },
     "execution_count": 66,
     "metadata": {},
     "output_type": "execute_result"
    }
   ],
   "source": [
    "os.getcwd()\n",
    "\n",
    "os.path.join(os.getcwd(),\"parent_directory\")"
   ]
  },
  {
   "cell_type": "code",
   "execution_count": 74,
   "metadata": {},
   "outputs": [
    {
     "data": {
      "text/plain": [
       "[('/home/jamxt/Documents/python',\n",
       "  ['Advance_Modules',\n",
       "   'new',\n",
       "   ' Errors_and_Exceptions_Handling',\n",
       "   'Decorators_and_Generators',\n",
       "   'Python_Funcations',\n",
       "   'Python_Statements',\n",
       "   'Modules',\n",
       "   '.ipynb_checkpoints',\n",
       "   'parent_directory',\n",
       "   'Data-Structure-and-Objects',\n",
       "   'Object_Oriented_Programming ',\n",
       "   ' Python_Comparison_Operators',\n",
       "   '.git'],\n",
       "  []),\n",
       " ('/home/jamxt/Documents/python/Advance_Modules',\n",
       "  [],\n",
       "  ['collection.ipynb', 'os.ipynb']),\n",
       " ('/home/jamxt/Documents/python/new', [], []),\n",
       " ('/home/jamxt/Documents/python/ Errors_and_Exceptions_Handling',\n",
       "  [],\n",
       "  ['a.png', 'exceptions.ipynb', 'Errors and Exceptions.ipynb']),\n",
       " ('/home/jamxt/Documents/python/Decorators_and_Generators',\n",
       "  [],\n",
       "  ['decorators.ipynb',\n",
       "   'Decorators Homework.ipynb',\n",
       "   'Iterators and Generators Homework.ipynb']),\n",
       " ('/home/jamxt/Documents/python/Python_Funcations',\n",
       "  [],\n",
       "  ['function.ipynb', 'Function Practice Exercises.ipynb']),\n",
       " ('/home/jamxt/Documents/python/Python_Statements',\n",
       "  [],\n",
       "  ['python_statements.ipynb', 'Statements Assessment Test.ipynb']),\n",
       " ('/home/jamxt/Documents/python/Modules',\n",
       "  ['__pycache__', 'function'],\n",
       "  ['main.py', 'animal.py']),\n",
       " ('/home/jamxt/Documents/python/Modules/__pycache__',\n",
       "  [],\n",
       "  ['animal.cpython-312.pyc']),\n",
       " ('/home/jamxt/Documents/python/Modules/function',\n",
       "  ['__pycache__'],\n",
       "  ['some_functions.py']),\n",
       " ('/home/jamxt/Documents/python/Modules/function/__pycache__',\n",
       "  [],\n",
       "  ['some_functions.cpython-312.pyc']),\n",
       " ('/home/jamxt/Documents/python/.ipynb_checkpoints',\n",
       "  [],\n",
       "  ['dataTypes-checkpoint.ipynb']),\n",
       " ('/home/jamxt/Documents/python/parent_directory', ['child_directory'], []),\n",
       " ('/home/jamxt/Documents/python/parent_directory/child_directory', [], []),\n",
       " ('/home/jamxt/Documents/python/Data-Structure-and-Objects',\n",
       "  [],\n",
       "  ['fileHandling.ipynb',\n",
       "   'Dictionaries.ipynb',\n",
       "   'new_file.txt',\n",
       "   'myfile.txt',\n",
       "   't.txt',\n",
       "   'tuples.ipynb',\n",
       "   'lists.ipynb',\n",
       "   'dataTypes.ipynb',\n",
       "   'Objects and Data Structures Assessment Test.ipynb']),\n",
       " ('/home/jamxt/Documents/python/Object_Oriented_Programming ',\n",
       "  [],\n",
       "  ['oops.ipynb',\n",
       "   'Object Oriented Programming Homework.ipynb',\n",
       "   'OOP Challenge.ipynb']),\n",
       " ('/home/jamxt/Documents/python/ Python_Comparison_Operators',\n",
       "  [],\n",
       "  ['comparison_operators.ipynb']),\n",
       " ('/home/jamxt/Documents/python/.git',\n",
       "  ['refs', 'logs', 'hooks', 'info', 'objects', 'branches'],\n",
       "  ['description',\n",
       "   'HEAD',\n",
       "   'config',\n",
       "   'COMMIT_EDITMSG',\n",
       "   'FETCH_HEAD',\n",
       "   'index',\n",
       "   'ORIG_HEAD']),\n",
       " ('/home/jamxt/Documents/python/.git/refs', ['tags', 'heads', 'remotes'], []),\n",
       " ('/home/jamxt/Documents/python/.git/refs/tags', [], []),\n",
       " ('/home/jamxt/Documents/python/.git/refs/heads', [], ['main']),\n",
       " ('/home/jamxt/Documents/python/.git/refs/remotes', ['origin'], []),\n",
       " ('/home/jamxt/Documents/python/.git/refs/remotes/origin', [], ['main']),\n",
       " ('/home/jamxt/Documents/python/.git/logs', ['refs'], ['HEAD']),\n",
       " ('/home/jamxt/Documents/python/.git/logs/refs', ['heads', 'remotes'], []),\n",
       " ('/home/jamxt/Documents/python/.git/logs/refs/heads', [], ['main']),\n",
       " ('/home/jamxt/Documents/python/.git/logs/refs/remotes', ['origin'], []),\n",
       " ('/home/jamxt/Documents/python/.git/logs/refs/remotes/origin', [], ['main']),\n",
       " ('/home/jamxt/Documents/python/.git/hooks',\n",
       "  [],\n",
       "  ['applypatch-msg.sample',\n",
       "   'fsmonitor-watchman.sample',\n",
       "   'pre-merge-commit.sample',\n",
       "   'commit-msg.sample',\n",
       "   'post-update.sample',\n",
       "   'pre-commit.sample',\n",
       "   'push-to-checkout.sample',\n",
       "   'pre-push.sample',\n",
       "   'pre-rebase.sample',\n",
       "   'sendemail-validate.sample',\n",
       "   'pre-applypatch.sample',\n",
       "   'pre-receive.sample',\n",
       "   'prepare-commit-msg.sample',\n",
       "   'update.sample']),\n",
       " ('/home/jamxt/Documents/python/.git/info', [], ['exclude']),\n",
       " ('/home/jamxt/Documents/python/.git/objects',\n",
       "  ['70',\n",
       "   'b3',\n",
       "   '1f',\n",
       "   'f2',\n",
       "   'fb',\n",
       "   'd7',\n",
       "   '78',\n",
       "   '9b',\n",
       "   '7b',\n",
       "   '40',\n",
       "   '3d',\n",
       "   'c1',\n",
       "   '0a',\n",
       "   'da',\n",
       "   '0b',\n",
       "   '2b',\n",
       "   '68',\n",
       "   '9a',\n",
       "   'b9',\n",
       "   '37',\n",
       "   '36',\n",
       "   '5c',\n",
       "   '56',\n",
       "   '9d',\n",
       "   '51',\n",
       "   '6f',\n",
       "   '29',\n",
       "   '9f',\n",
       "   '2f',\n",
       "   '50',\n",
       "   '00',\n",
       "   '0f',\n",
       "   'cf',\n",
       "   '74',\n",
       "   'a0',\n",
       "   '93',\n",
       "   'pack',\n",
       "   '69',\n",
       "   '22',\n",
       "   '8a',\n",
       "   '05',\n",
       "   '01',\n",
       "   'df',\n",
       "   '59',\n",
       "   '04',\n",
       "   '8d',\n",
       "   'a1',\n",
       "   'f6',\n",
       "   '60',\n",
       "   '43',\n",
       "   '65',\n",
       "   '53',\n",
       "   'a8',\n",
       "   'b5',\n",
       "   'c2',\n",
       "   '62',\n",
       "   'cc',\n",
       "   'c9',\n",
       "   '32',\n",
       "   '3a',\n",
       "   '84',\n",
       "   '46',\n",
       "   '08',\n",
       "   '61',\n",
       "   '18',\n",
       "   '13',\n",
       "   '44',\n",
       "   'info',\n",
       "   '5b',\n",
       "   'bc',\n",
       "   '7d',\n",
       "   'eb',\n",
       "   '0d',\n",
       "   'de',\n",
       "   'c7',\n",
       "   'f5',\n",
       "   '6b',\n",
       "   'ef',\n",
       "   '4c',\n",
       "   'b0',\n",
       "   '72',\n",
       "   '9c',\n",
       "   '5f',\n",
       "   'dd',\n",
       "   'ab',\n",
       "   'd5',\n",
       "   '54',\n",
       "   'c6',\n",
       "   '5a',\n",
       "   '49'],\n",
       "  []),\n",
       " ('/home/jamxt/Documents/python/.git/objects/70',\n",
       "  [],\n",
       "  ['9d82cff5441273c179920d46f936095fd29ac8']),\n",
       " ('/home/jamxt/Documents/python/.git/objects/b3',\n",
       "  [],\n",
       "  ['90b1e4b54eccab03a2ba220999e403cc0289a7']),\n",
       " ('/home/jamxt/Documents/python/.git/objects/1f',\n",
       "  [],\n",
       "  ['63915afce5103e125280c110ea0d1ad0befcc7']),\n",
       " ('/home/jamxt/Documents/python/.git/objects/f2',\n",
       "  [],\n",
       "  ['9587c8746614f863db5687bb7c2e7e54fb07b3']),\n",
       " ('/home/jamxt/Documents/python/.git/objects/fb',\n",
       "  [],\n",
       "  ['b6250832f3ee2cb15aa8a80055aa146c85c60b']),\n",
       " ('/home/jamxt/Documents/python/.git/objects/d7',\n",
       "  [],\n",
       "  ['4095301533b85649677b529dcff70044f267ab']),\n",
       " ('/home/jamxt/Documents/python/.git/objects/78',\n",
       "  [],\n",
       "  ['7a4c8fc96b800185d06312b7110358cb1e9b32']),\n",
       " ('/home/jamxt/Documents/python/.git/objects/9b',\n",
       "  [],\n",
       "  ['868ac295d7bef9098c9d1af6b1395ec016099f']),\n",
       " ('/home/jamxt/Documents/python/.git/objects/7b',\n",
       "  [],\n",
       "  ['aa9d3e16ec404c949123d37b5664727c097680']),\n",
       " ('/home/jamxt/Documents/python/.git/objects/40',\n",
       "  [],\n",
       "  ['8c90988677465e2c8aadd5961441c0274fb42d']),\n",
       " ('/home/jamxt/Documents/python/.git/objects/3d',\n",
       "  [],\n",
       "  ['2e457ab15326d5c2b6f093fd3e28cdc2e51853']),\n",
       " ('/home/jamxt/Documents/python/.git/objects/c1',\n",
       "  [],\n",
       "  ['5d58eb1b5717d12d422392186603683bd33ba8']),\n",
       " ('/home/jamxt/Documents/python/.git/objects/0a',\n",
       "  [],\n",
       "  ['7b6f6ad51f0b5842cc557f2b65eb558a5d6efd']),\n",
       " ('/home/jamxt/Documents/python/.git/objects/da',\n",
       "  [],\n",
       "  ['92c2a15abbd5a6d6c4acbc83b03d933953b71a',\n",
       "   'ae28c688b65f7c609982a4e71fd4c603372290']),\n",
       " ('/home/jamxt/Documents/python/.git/objects/0b',\n",
       "  [],\n",
       "  ['a2fdf29afc08f9834ff57b25fbe841810dd4ed']),\n",
       " ('/home/jamxt/Documents/python/.git/objects/2b',\n",
       "  [],\n",
       "  ['5334060b0525501335d03eccd896e05dcf7ea9']),\n",
       " ('/home/jamxt/Documents/python/.git/objects/68',\n",
       "  [],\n",
       "  ['6665405f783b138a9969b193d4751310b5e5c4']),\n",
       " ('/home/jamxt/Documents/python/.git/objects/9a',\n",
       "  [],\n",
       "  ['40894986c7b3b694889f9997026f55c7a4cc4c',\n",
       "   '354767162348aac4f6b329a247fa62b823576e']),\n",
       " ('/home/jamxt/Documents/python/.git/objects/b9',\n",
       "  [],\n",
       "  ['b6a42092004e4bedcf6e70cc71e0a34d2539a9']),\n",
       " ('/home/jamxt/Documents/python/.git/objects/37',\n",
       "  [],\n",
       "  ['4b770c91caec3c707d8b8234b7af3acb92d488']),\n",
       " ('/home/jamxt/Documents/python/.git/objects/36',\n",
       "  [],\n",
       "  ['3fcab7ed6e9634e198cf5555ceb88932c9a245',\n",
       "   'a74e9ec8bbb62c3b2bd6183a6238bbeb7ab4ee']),\n",
       " ('/home/jamxt/Documents/python/.git/objects/5c',\n",
       "  [],\n",
       "  ['01a19e2625b24be3d49b9281b347cb1826fa1e']),\n",
       " ('/home/jamxt/Documents/python/.git/objects/56',\n",
       "  [],\n",
       "  ['ff238acc6517cddd608d49442b8544e33b53c3']),\n",
       " ('/home/jamxt/Documents/python/.git/objects/9d',\n",
       "  [],\n",
       "  ['ed93872d39f0b2f07e3ac5cee89037b100aeb4']),\n",
       " ('/home/jamxt/Documents/python/.git/objects/51',\n",
       "  [],\n",
       "  ['ce32350ab1e7101add246f4daf31b587a42962']),\n",
       " ('/home/jamxt/Documents/python/.git/objects/6f',\n",
       "  [],\n",
       "  ['a1e2041bcb2c2773516a0b13657e516624f017']),\n",
       " ('/home/jamxt/Documents/python/.git/objects/29',\n",
       "  [],\n",
       "  ['f902cc687376ce717b72f4609c860186443771']),\n",
       " ('/home/jamxt/Documents/python/.git/objects/9f',\n",
       "  [],\n",
       "  ['a4a5f6819bf0d601cea6fbf9366e673386d54a']),\n",
       " ('/home/jamxt/Documents/python/.git/objects/2f',\n",
       "  [],\n",
       "  ['b1a6a2ea5f8859cb0a346c6b16f39eab975365']),\n",
       " ('/home/jamxt/Documents/python/.git/objects/50',\n",
       "  [],\n",
       "  ['4aa4fe76bee454f3c863c8d249fac48e241f74']),\n",
       " ('/home/jamxt/Documents/python/.git/objects/00',\n",
       "  [],\n",
       "  ['ef79a09b53b687bdb1b88ebc9834ab6aadde80']),\n",
       " ('/home/jamxt/Documents/python/.git/objects/0f',\n",
       "  [],\n",
       "  ['f4e72928a6633f62f90ef3e761fd2c63f361c1']),\n",
       " ('/home/jamxt/Documents/python/.git/objects/cf',\n",
       "  [],\n",
       "  ['34a08d58a7b5d4c9c31d2ac0f2e1af016dd995']),\n",
       " ('/home/jamxt/Documents/python/.git/objects/74',\n",
       "  [],\n",
       "  ['50e127dfebe9679406d334e79210084a94df07',\n",
       "   '1f25560ca954369dbdd56c6f458d60932dec63']),\n",
       " ('/home/jamxt/Documents/python/.git/objects/a0',\n",
       "  [],\n",
       "  ['0b49e99d694b2b074665e498b1cab9bb31c8f6']),\n",
       " ('/home/jamxt/Documents/python/.git/objects/93',\n",
       "  [],\n",
       "  ['1953250ff7f0cc6a4fb809a68b72090dc9f0b7']),\n",
       " ('/home/jamxt/Documents/python/.git/objects/pack', [], []),\n",
       " ('/home/jamxt/Documents/python/.git/objects/69',\n",
       "  [],\n",
       "  ['83e70786711d825ae1ee690a5b1a5ee14c5c2e']),\n",
       " ('/home/jamxt/Documents/python/.git/objects/22',\n",
       "  [],\n",
       "  ['bfe221de5927d31a48fa0af3ff1e7d49a2bdfd']),\n",
       " ('/home/jamxt/Documents/python/.git/objects/8a',\n",
       "  [],\n",
       "  ['ce48292f78d49219a561a8d0cdb296928a228b']),\n",
       " ('/home/jamxt/Documents/python/.git/objects/05',\n",
       "  [],\n",
       "  ['7a5600e158152d3199493dec4ac0da8337a5b0']),\n",
       " ('/home/jamxt/Documents/python/.git/objects/01',\n",
       "  [],\n",
       "  ['3da59b16f7e1ddabb038baa3a5bfeb9c14d98a']),\n",
       " ('/home/jamxt/Documents/python/.git/objects/df',\n",
       "  [],\n",
       "  ['37f4abd524f32b17ceae3ecaebe218097f2504']),\n",
       " ('/home/jamxt/Documents/python/.git/objects/59',\n",
       "  [],\n",
       "  ['6dc4882897110e8bec8c793aee02bc4a87962a']),\n",
       " ('/home/jamxt/Documents/python/.git/objects/04',\n",
       "  [],\n",
       "  ['b0c3f5fd835fa29ae9135038d1634dac5349ba']),\n",
       " ('/home/jamxt/Documents/python/.git/objects/8d',\n",
       "  [],\n",
       "  ['d89bc1092921dc133d7f9756ce0666febeec9a',\n",
       "   'fb3a2d44a7ece963f60dbd5dd380523aab56da']),\n",
       " ('/home/jamxt/Documents/python/.git/objects/a1',\n",
       "  [],\n",
       "  ['6352f5fd5c99e4a2eaabf9829e151b66d4dfce']),\n",
       " ('/home/jamxt/Documents/python/.git/objects/f6',\n",
       "  [],\n",
       "  ['6386e2c0ab46516719732d70a1562838a5853c']),\n",
       " ('/home/jamxt/Documents/python/.git/objects/60',\n",
       "  [],\n",
       "  ['58e0aeaf5e9ef0e4bfa4f5ac88baec67015e7b']),\n",
       " ('/home/jamxt/Documents/python/.git/objects/43',\n",
       "  [],\n",
       "  ['d7fc76209444bf2b72e56fb4642b1e58f3b95f',\n",
       "   'bc4457b79e8cd1ed86792447e9ee744fd894fc']),\n",
       " ('/home/jamxt/Documents/python/.git/objects/65',\n",
       "  [],\n",
       "  ['8d87e94f24be6f9719063e95028687af330ce0']),\n",
       " ('/home/jamxt/Documents/python/.git/objects/53',\n",
       "  [],\n",
       "  ['a06c0501faab9151c3fa59631614dce2b91e78']),\n",
       " ('/home/jamxt/Documents/python/.git/objects/a8',\n",
       "  [],\n",
       "  ['bc195c572fd18f4f33c9fda07d09dc85262a1a']),\n",
       " ('/home/jamxt/Documents/python/.git/objects/b5',\n",
       "  [],\n",
       "  ['b59095eb01ee3a3fb704acce69e7e2309073dd',\n",
       "   '0529f66d22e6c75e66d523cee2784a7d6a2909']),\n",
       " ('/home/jamxt/Documents/python/.git/objects/c2',\n",
       "  [],\n",
       "  ['aa7ace8b5c5206a616eed0b79cff6c32d7acde']),\n",
       " ('/home/jamxt/Documents/python/.git/objects/62',\n",
       "  [],\n",
       "  ['8151814bb7b069a178f3c0a5e1e9b11ef4725f']),\n",
       " ('/home/jamxt/Documents/python/.git/objects/cc',\n",
       "  [],\n",
       "  ['6946917f9e1cb27c808e4e848a0bcffc2e4ca9',\n",
       "   '514ccb64f25351fb65b66be5f6b9f3742cbe06']),\n",
       " ('/home/jamxt/Documents/python/.git/objects/c9',\n",
       "  [],\n",
       "  ['201d7d3f14763d6d791e6159716a867142931f']),\n",
       " ('/home/jamxt/Documents/python/.git/objects/32',\n",
       "  [],\n",
       "  ['08e351c61d91e8e38cdb20952523c7be73d1a5']),\n",
       " ('/home/jamxt/Documents/python/.git/objects/3a',\n",
       "  [],\n",
       "  ['cb65649c256473bafe900c72a07c1203bb8a00']),\n",
       " ('/home/jamxt/Documents/python/.git/objects/84',\n",
       "  [],\n",
       "  ['ceb65bef19341f2ec6e09fd8b8d1d9f19f1251']),\n",
       " ('/home/jamxt/Documents/python/.git/objects/46',\n",
       "  [],\n",
       "  ['9190545d47326e08e7b8b40a7f9d247879aa42']),\n",
       " ('/home/jamxt/Documents/python/.git/objects/08',\n",
       "  [],\n",
       "  ['b9d3a27a36a9f1f77e9851489967e0773e4ca5']),\n",
       " ('/home/jamxt/Documents/python/.git/objects/61',\n",
       "  [],\n",
       "  ['8b43734279e0b635b4aba462346068cc763506',\n",
       "   '4576f12d1c3ea7f304200a8fb8b303775dadc6']),\n",
       " ('/home/jamxt/Documents/python/.git/objects/18',\n",
       "  [],\n",
       "  ['32955366a7b3f2908422c9b34c5b59cf23cfff']),\n",
       " ('/home/jamxt/Documents/python/.git/objects/13',\n",
       "  [],\n",
       "  ['e14391dabbc2a00e732877b21993eac1b610ab']),\n",
       " ('/home/jamxt/Documents/python/.git/objects/44',\n",
       "  [],\n",
       "  ['a5bba6f7686a1b5446498905cda0ad6ecf0969',\n",
       "   '2366b80fb065e12b017b1791f25040247d6c59']),\n",
       " ('/home/jamxt/Documents/python/.git/objects/info', [], []),\n",
       " ('/home/jamxt/Documents/python/.git/objects/5b',\n",
       "  [],\n",
       "  ['27d7cfa24296eb3e046fdec06aab6be2796097']),\n",
       " ('/home/jamxt/Documents/python/.git/objects/bc',\n",
       "  [],\n",
       "  ['a9ffc93c9cf1e35fb839e6f1dc4e6b648af17c']),\n",
       " ('/home/jamxt/Documents/python/.git/objects/7d',\n",
       "  [],\n",
       "  ['b233b29773942b34bc4ffbcc4e69a3e0f69cc1']),\n",
       " ('/home/jamxt/Documents/python/.git/objects/eb',\n",
       "  [],\n",
       "  ['60270066aab17f9f72a70082ae16cd5b3b5b0a',\n",
       "   'd5da30313a12302978ebb8cf6d49d65c90a1a0']),\n",
       " ('/home/jamxt/Documents/python/.git/objects/0d',\n",
       "  [],\n",
       "  ['afeded8ec34e8e4ceba1faf3b8254c9eb9def2']),\n",
       " ('/home/jamxt/Documents/python/.git/objects/de',\n",
       "  [],\n",
       "  ['a0f9f6d342af17e0aa9d4e196ab840e21e01ad',\n",
       "   '4f0825aaf05c22a5b7b1321b349db64f67e4e1']),\n",
       " ('/home/jamxt/Documents/python/.git/objects/c7',\n",
       "  [],\n",
       "  ['171044d08d4b3f94cd43bdabded007f566cc63']),\n",
       " ('/home/jamxt/Documents/python/.git/objects/f5',\n",
       "  [],\n",
       "  ['90f51716f8ea096f8174f8d61965ace550437e']),\n",
       " ('/home/jamxt/Documents/python/.git/objects/6b',\n",
       "  [],\n",
       "  ['a6c52c2d647e263e103df1523af6e48505c8e1']),\n",
       " ('/home/jamxt/Documents/python/.git/objects/ef',\n",
       "  [],\n",
       "  ['91ecc8f61723a032e0d6731d9ba02de1c65b0c']),\n",
       " ('/home/jamxt/Documents/python/.git/objects/4c',\n",
       "  [],\n",
       "  ['4ed022890be2b3108eb9d4882ce0b6bf813d42']),\n",
       " ('/home/jamxt/Documents/python/.git/objects/b0',\n",
       "  [],\n",
       "  ['f3988b9e81bb9ab489c301cf1476dd2504a31d']),\n",
       " ('/home/jamxt/Documents/python/.git/objects/72',\n",
       "  [],\n",
       "  ['cdd842c4adcab1b9bf1cc2d0a139b15bf05450']),\n",
       " ('/home/jamxt/Documents/python/.git/objects/9c',\n",
       "  [],\n",
       "  ['486a49778fc89efc7cad7b575f2d24a01a0691']),\n",
       " ('/home/jamxt/Documents/python/.git/objects/5f',\n",
       "  [],\n",
       "  ['76fb9a05bd2bd3b54cf64d1a36f9e84d2204ea']),\n",
       " ('/home/jamxt/Documents/python/.git/objects/dd',\n",
       "  [],\n",
       "  ['5a382b677be74a240f96deafd3fba831743d84',\n",
       "   'a88dc6e233f050425956db0986d64b5a5167f4',\n",
       "   '407d29722fb3057506e7d2d7cc84a0760f0bdf']),\n",
       " ('/home/jamxt/Documents/python/.git/objects/ab',\n",
       "  [],\n",
       "  ['e99eafa8336d3f4cac60b5692b6594e5b394d7']),\n",
       " ('/home/jamxt/Documents/python/.git/objects/d5',\n",
       "  [],\n",
       "  ['b16db3a59032479e2ca77e2e26872d9e43cdf7']),\n",
       " ('/home/jamxt/Documents/python/.git/objects/54',\n",
       "  [],\n",
       "  ['e6b4c2f58797d97461e1dfd4697414c9df8683']),\n",
       " ('/home/jamxt/Documents/python/.git/objects/c6',\n",
       "  [],\n",
       "  ['3fa55ff0f9b8bab872c7b1a2c3d89a2e3de4f2']),\n",
       " ('/home/jamxt/Documents/python/.git/objects/5a',\n",
       "  [],\n",
       "  ['a4e6f16468ff95ffda07a683b011f407ef5358']),\n",
       " ('/home/jamxt/Documents/python/.git/objects/49',\n",
       "  [],\n",
       "  ['6396af889f5aee544111207c97ef190e4e853b']),\n",
       " ('/home/jamxt/Documents/python/.git/branches', [], [])]"
      ]
     },
     "execution_count": 74,
     "metadata": {},
     "output_type": "execute_result"
    }
   ],
   "source": [
    "list(os.walk(os.path.join(os.getcwd())))"
   ]
  },
  {
   "cell_type": "code",
   "execution_count": 89,
   "metadata": {},
   "outputs": [
    {
     "name": "stdout",
     "output_type": "stream",
     "text": [
      "foler /home/jamxt/Documents/python/Advance_Modules/Example_Top_Level\n",
      "sub folders: Mid-Example-One\n",
      "files: Mid-Example.txt\n",
      "\n",
      "\n",
      "foler /home/jamxt/Documents/python/Advance_Modules/Example_Top_Level/Mid-Example-One\n",
      "sub folders: Bottom-Level-Two\n",
      "sub folders: Bottom-Level-One\n",
      "files: Mid-Level-Doc.txt\n",
      "\n",
      "\n",
      "foler /home/jamxt/Documents/python/Advance_Modules/Example_Top_Level/Mid-Example-One/Bottom-Level-Two\n",
      "files: Bottom-Text-Two.txt\n",
      "\n",
      "\n",
      "foler /home/jamxt/Documents/python/Advance_Modules/Example_Top_Level/Mid-Example-One/Bottom-Level-One\n",
      "files: One_Text.txt\n",
      "\n",
      "\n"
     ]
    }
   ],
   "source": [
    "for folder, sub_folder, files in os.walk(os.path.join(os.getcwd(),\"Advance_Modules/Example_Top_Level\")):\n",
    "    print(\"foler\",folder)\n",
    "    for value in sub_folder:\n",
    "        print(\"sub folders:\",value)\n",
    "    for value in files:\n",
    "        print(\"files:\",value)\n",
    "        print(\"\\n\")\n",
    "    "
   ]
  },
  {
   "cell_type": "code",
   "execution_count": null,
   "metadata": {},
   "outputs": [],
   "source": []
  },
  {
   "cell_type": "code",
   "execution_count": null,
   "metadata": {},
   "outputs": [],
   "source": []
  }
 ],
 "metadata": {
  "kernelspec": {
   "display_name": "Python 3",
   "language": "python",
   "name": "python3"
  },
  "language_info": {
   "codemirror_mode": {
    "name": "ipython",
    "version": 3
   },
   "file_extension": ".py",
   "mimetype": "text/x-python",
   "name": "python",
   "nbconvert_exporter": "python",
   "pygments_lexer": "ipython3",
   "version": "3.12.3"
  }
 },
 "nbformat": 4,
 "nbformat_minor": 2
}
