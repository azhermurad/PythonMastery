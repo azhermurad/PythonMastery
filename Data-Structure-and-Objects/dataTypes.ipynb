{
 "cells": [
  {
   "cell_type": "markdown",
   "id": "2185aa4a",
   "metadata": {},
   "source": [
    "# Number"
   ]
  },
  {
   "cell_type": "code",
   "execution_count": 2,
   "id": "c75d0601-b102-413e-96a5-17af4fad3ff8",
   "metadata": {},
   "outputs": [],
   "source": [
    "a=10"
   ]
  },
  {
   "cell_type": "code",
   "execution_count": 3,
   "id": "dcbd3b5f-fc62-4ac4-96da-34cf2bf6dd56",
   "metadata": {},
   "outputs": [],
   "source": [
    "b=3.5"
   ]
  },
  {
   "cell_type": "code",
   "execution_count": 5,
   "id": "1825ec23-1567-4528-8532-63fbcf549c28",
   "metadata": {},
   "outputs": [
    {
     "data": {
      "text/plain": [
       "3.5"
      ]
     },
     "execution_count": 5,
     "metadata": {},
     "output_type": "execute_result"
    }
   ],
   "source": [
    "\n",
    "b"
   ]
  },
  {
   "cell_type": "code",
   "execution_count": 6,
   "id": "29d73a0a",
   "metadata": {},
   "outputs": [
    {
     "data": {
      "text/plain": [
       "0.5"
      ]
     },
     "execution_count": 6,
     "metadata": {},
     "output_type": "execute_result"
    }
   ],
   "source": [
    "5/10"
   ]
  },
  {
   "cell_type": "code",
   "execution_count": 7,
   "id": "3db18c74",
   "metadata": {},
   "outputs": [
    {
     "data": {
      "text/plain": [
       "0"
      ]
     },
     "execution_count": 7,
     "metadata": {},
     "output_type": "execute_result"
    }
   ],
   "source": [
    "4%2"
   ]
  },
  {
   "cell_type": "code",
   "execution_count": 10,
   "id": "67b7a579",
   "metadata": {},
   "outputs": [
    {
     "data": {
      "text/plain": [
       "'1010'"
      ]
     },
     "execution_count": 10,
     "metadata": {},
     "output_type": "execute_result"
    }
   ],
   "source": [
    "\"10\"+\"10\""
   ]
  },
  {
   "cell_type": "code",
   "execution_count": 11,
   "id": "94453269",
   "metadata": {},
   "outputs": [
    {
     "data": {
      "text/plain": [
       "10.0"
      ]
     },
     "execution_count": 11,
     "metadata": {},
     "output_type": "execute_result"
    }
   ],
   "source": [
    "float(10)"
   ]
  },
  {
   "cell_type": "code",
   "execution_count": 12,
   "id": "fa58b84e",
   "metadata": {},
   "outputs": [
    {
     "data": {
      "text/plain": [
       "10"
      ]
     },
     "execution_count": 12,
     "metadata": {},
     "output_type": "execute_result"
    }
   ],
   "source": [
    "int(10)"
   ]
  },
  {
   "cell_type": "code",
   "execution_count": 13,
   "id": "5ffb05d7",
   "metadata": {},
   "outputs": [
    {
     "data": {
      "text/plain": [
       "(2+0j)"
      ]
     },
     "execution_count": 13,
     "metadata": {},
     "output_type": "execute_result"
    }
   ],
   "source": [
    "complex(2)"
   ]
  },
  {
   "cell_type": "code",
   "execution_count": 14,
   "id": "df698754",
   "metadata": {},
   "outputs": [],
   "source": [
    "my_value =100"
   ]
  },
  {
   "cell_type": "code",
   "execution_count": 17,
   "id": "2e1167ca",
   "metadata": {},
   "outputs": [
    {
     "name": "stdout",
     "output_type": "stream",
     "text": [
      "value:  100\n"
     ]
    }
   ],
   "source": [
    "print(\"value: \",my_value)"
   ]
  },
  {
   "cell_type": "code",
   "execution_count": 21,
   "id": "bbfdf089",
   "metadata": {},
   "outputs": [
    {
     "data": {
      "text/plain": [
       "5"
      ]
     },
     "execution_count": 21,
     "metadata": {},
     "output_type": "execute_result"
    }
   ],
   "source": [
    "len(\"hello\")"
   ]
  },
  {
   "cell_type": "code",
   "execution_count": null,
   "id": "30ba0016",
   "metadata": {},
   "outputs": [],
   "source": []
  },
  {
   "cell_type": "markdown",
   "id": "8708f897",
   "metadata": {},
   "source": [
    "# String"
   ]
  },
  {
   "cell_type": "code",
   "execution_count": 22,
   "id": "6b428ce9",
   "metadata": {},
   "outputs": [],
   "source": [
    "book_name = \"novel\""
   ]
  },
  {
   "cell_type": "code",
   "execution_count": 23,
   "id": "7a37961d",
   "metadata": {},
   "outputs": [
    {
     "data": {
      "text/plain": [
       "'l'"
      ]
     },
     "execution_count": 23,
     "metadata": {},
     "output_type": "execute_result"
    }
   ],
   "source": [
    "book_name[-1] #reversing index"
   ]
  },
  {
   "cell_type": "code",
   "execution_count": 24,
   "id": "9c6d6bcc",
   "metadata": {},
   "outputs": [
    {
     "data": {
      "text/plain": [
       "\"i'm a developer\""
      ]
     },
     "execution_count": 24,
     "metadata": {},
     "output_type": "execute_result"
    }
   ],
   "source": [
    "\"i'm a developer\""
   ]
  },
  {
   "cell_type": "code",
   "execution_count": 26,
   "id": "d04fa6c5",
   "metadata": {},
   "outputs": [
    {
     "data": {
      "text/plain": [
       "'hello python three'"
      ]
     },
     "execution_count": 26,
     "metadata": {},
     "output_type": "execute_result"
    }
   ],
   "source": [
    "\"hello python\"\n",
    "\"hello python three\""
   ]
  },
  {
   "cell_type": "code",
   "execution_count": 28,
   "id": "7e1c9535",
   "metadata": {},
   "outputs": [
    {
     "name": "stdout",
     "output_type": "stream",
     "text": [
      "hello python\n",
      "hello python three\n"
     ]
    }
   ],
   "source": [
    "print(\"hello python\")\n",
    "print(\"hello python three\")"
   ]
  },
  {
   "cell_type": "code",
   "execution_count": 32,
   "id": "0171fc44",
   "metadata": {},
   "outputs": [
    {
     "name": "stdout",
     "output_type": "stream",
     "text": [
      "data \n",
      "science\n"
     ]
    }
   ],
   "source": [
    "print(\"data \\nscience\")"
   ]
  },
  {
   "cell_type": "markdown",
   "id": "ecd853ae",
   "metadata": {},
   "source": [
    "# string indexing and slicing"
   ]
  },
  {
   "cell_type": "code",
   "execution_count": 33,
   "id": "b60ba030",
   "metadata": {},
   "outputs": [],
   "source": [
    "my_string = \"i write some code\""
   ]
  },
  {
   "cell_type": "code",
   "execution_count": 35,
   "id": "002274f2",
   "metadata": {},
   "outputs": [
    {
     "data": {
      "text/plain": [
       "'i'"
      ]
     },
     "execution_count": 35,
     "metadata": {},
     "output_type": "execute_result"
    }
   ],
   "source": [
    "my_string[0] # get first character"
   ]
  },
  {
   "cell_type": "code",
   "execution_count": 36,
   "id": "4f8cf254",
   "metadata": {},
   "outputs": [
    {
     "data": {
      "text/plain": [
       "'r'"
      ]
     },
     "execution_count": 36,
     "metadata": {},
     "output_type": "execute_result"
    }
   ],
   "source": [
    "my_string[3]"
   ]
  },
  {
   "cell_type": "code",
   "execution_count": 38,
   "id": "76b5667a",
   "metadata": {},
   "outputs": [
    {
     "data": {
      "text/plain": [
       "'e'"
      ]
     },
     "execution_count": 38,
     "metadata": {},
     "output_type": "execute_result"
    }
   ],
   "source": [
    "my_string[-1] # reverse index to get the last element"
   ]
  },
  {
   "cell_type": "code",
   "execution_count": 39,
   "id": "a80a4da8",
   "metadata": {},
   "outputs": [
    {
     "data": {
      "text/plain": [
       "17"
      ]
     },
     "execution_count": 39,
     "metadata": {},
     "output_type": "execute_result"
    }
   ],
   "source": [
    "len(my_string) # length of string"
   ]
  },
  {
   "cell_type": "code",
   "execution_count": 42,
   "id": "0f75a0a2",
   "metadata": {},
   "outputs": [
    {
     "name": "stdout",
     "output_type": "stream",
     "text": [
      "i write some code\n"
     ]
    }
   ],
   "source": [
    "print(my_string)"
   ]
  },
  {
   "cell_type": "code",
   "execution_count": 46,
   "id": "a21f2ffd",
   "metadata": {},
   "outputs": [
    {
     "data": {
      "text/plain": [
       "'i wr'"
      ]
     },
     "execution_count": 46,
     "metadata": {},
     "output_type": "execute_result"
    }
   ],
   "source": [
    "my_string[0:4]"
   ]
  },
  {
   "cell_type": "code",
   "execution_count": 47,
   "id": "065cde6a",
   "metadata": {},
   "outputs": [
    {
     "data": {
      "text/plain": [
       "'i write some cod'"
      ]
     },
     "execution_count": 47,
     "metadata": {},
     "output_type": "execute_result"
    }
   ],
   "source": [
    "my_string[:-1]"
   ]
  },
  {
   "cell_type": "code",
   "execution_count": 50,
   "id": "75c5fc4b",
   "metadata": {},
   "outputs": [
    {
     "data": {
      "text/plain": [
       "'edoc emos etirw i'"
      ]
     },
     "execution_count": 50,
     "metadata": {},
     "output_type": "execute_result"
    }
   ],
   "source": [
    "my_string[::-1]"
   ]
  },
  {
   "cell_type": "code",
   "execution_count": 52,
   "id": "04e82933",
   "metadata": {},
   "outputs": [
    {
     "data": {
      "text/plain": [
       "'iwiesm oe'"
      ]
     },
     "execution_count": 52,
     "metadata": {},
     "output_type": "execute_result"
    }
   ],
   "source": [
    "my_string[::2]"
   ]
  },
  {
   "cell_type": "code",
   "execution_count": 53,
   "id": "dc4ffad1",
   "metadata": {},
   "outputs": [],
   "source": [
    "my_string=\"abcdefghijklmn\""
   ]
  },
  {
   "cell_type": "code",
   "execution_count": 66,
   "id": "74452a66",
   "metadata": {},
   "outputs": [
    {
     "data": {
      "text/plain": [
       "'abcde'"
      ]
     },
     "execution_count": 66,
     "metadata": {},
     "output_type": "execute_result"
    }
   ],
   "source": [
    "my_string[:5]"
   ]
  },
  {
   "cell_type": "code",
   "execution_count": 67,
   "id": "f2db1e1d",
   "metadata": {},
   "outputs": [
    {
     "data": {
      "text/plain": [
       "'nmlkjihgfedcba'"
      ]
     },
     "execution_count": 67,
     "metadata": {},
     "output_type": "execute_result"
    }
   ],
   "source": [
    "# reversing a string using python simple trick\n",
    "my_string[::-1]"
   ]
  },
  {
   "cell_type": "markdown",
   "id": "eeffeb7c",
   "metadata": {},
   "source": [
    "### string methods"
   ]
  },
  {
   "cell_type": "code",
   "execution_count": 68,
   "id": "f22d640d",
   "metadata": {},
   "outputs": [
    {
     "data": {
      "text/plain": [
       "'ABCDEFGHIJKLMN'"
      ]
     },
     "execution_count": 68,
     "metadata": {},
     "output_type": "execute_result"
    }
   ],
   "source": [
    "my_string.upper()"
   ]
  },
  {
   "cell_type": "code",
   "execution_count": 76,
   "id": "b9467b3a",
   "metadata": {},
   "outputs": [
    {
     "data": {
      "text/plain": [
       "'Abcdefghijklmn'"
      ]
     },
     "execution_count": 76,
     "metadata": {},
     "output_type": "execute_result"
    }
   ],
   "source": [
    "my_string.capitalize()"
   ]
  },
  {
   "cell_type": "code",
   "execution_count": 77,
   "id": "2261e80f",
   "metadata": {},
   "outputs": [
    {
     "data": {
      "text/plain": [
       "-1"
      ]
     },
     "execution_count": 77,
     "metadata": {},
     "output_type": "execute_result"
    }
   ],
   "source": [
    "my_string.find('he')"
   ]
  },
  {
   "cell_type": "code",
   "execution_count": 81,
   "id": "cdbc2116",
   "metadata": {},
   "outputs": [
    {
     "data": {
      "text/plain": [
       "True"
      ]
     },
     "execution_count": 81,
     "metadata": {},
     "output_type": "execute_result"
    }
   ],
   "source": [
    "my_string.endswith(\"klmn\")"
   ]
  },
  {
   "cell_type": "code",
   "execution_count": 79,
   "id": "07cf5adf",
   "metadata": {},
   "outputs": [
    {
     "data": {
      "text/plain": [
       "'abcdefghijklmn'"
      ]
     },
     "execution_count": 79,
     "metadata": {},
     "output_type": "execute_result"
    }
   ],
   "source": [
    "my_string"
   ]
  },
  {
   "cell_type": "code",
   "execution_count": 86,
   "id": "4ca2afa6",
   "metadata": {},
   "outputs": [
    {
     "data": {
      "text/plain": [
       "True"
      ]
     },
     "execution_count": 86,
     "metadata": {},
     "output_type": "execute_result"
    }
   ],
   "source": [
    "my_string.islower()"
   ]
  },
  {
   "cell_type": "code",
   "execution_count": 88,
   "id": "957f59d7",
   "metadata": {},
   "outputs": [
    {
     "data": {
      "text/plain": [
       "'abcdefghijaaaan'"
      ]
     },
     "execution_count": 88,
     "metadata": {},
     "output_type": "execute_result"
    }
   ],
   "source": [
    "my_string.replace(\"klm\",\"aaaa\")"
   ]
  },
  {
   "cell_type": "markdown",
   "id": "9d09574a",
   "metadata": {},
   "source": [
    "### immutability"
   ]
  },
  {
   "cell_type": "code",
   "execution_count": 90,
   "id": "205d24fc",
   "metadata": {},
   "outputs": [],
   "source": [
    "name=\"sam\""
   ]
  },
  {
   "cell_type": "code",
   "execution_count": 99,
   "id": "7c20a9d1",
   "metadata": {},
   "outputs": [],
   "source": [
    "# name[0]=\"A\"\n",
    "# not support in python"
   ]
  },
  {
   "cell_type": "code",
   "execution_count": 100,
   "id": "ac01e875",
   "metadata": {},
   "outputs": [],
   "source": [
    "name = \"A\"+name[1:]"
   ]
  },
  {
   "cell_type": "code",
   "execution_count": 94,
   "id": "f6b9cafb",
   "metadata": {},
   "outputs": [
    {
     "data": {
      "text/plain": [
       "'Aam'"
      ]
     },
     "execution_count": 94,
     "metadata": {},
     "output_type": "execute_result"
    }
   ],
   "source": [
    "name"
   ]
  },
  {
   "cell_type": "code",
   "execution_count": 119,
   "id": "6b49b403",
   "metadata": {},
   "outputs": [
    {
     "data": {
      "text/plain": [
       "'abcdefghijklmn'"
      ]
     },
     "execution_count": 119,
     "metadata": {},
     "output_type": "execute_result"
    }
   ],
   "source": [
    "my_string.lstrip()"
   ]
  },
  {
   "cell_type": "code",
   "execution_count": 124,
   "id": "11640b2d",
   "metadata": {},
   "outputs": [
    {
     "data": {
      "text/plain": [
       "['abcd', 'fghijklmn']"
      ]
     },
     "execution_count": 124,
     "metadata": {},
     "output_type": "execute_result"
    }
   ],
   "source": [
    "my_string.split('e')"
   ]
  },
  {
   "cell_type": "code",
   "execution_count": 128,
   "id": "562875d4",
   "metadata": {},
   "outputs": [
    {
     "data": {
      "text/plain": [
       "'A A A A A A A A A '"
      ]
     },
     "execution_count": 128,
     "metadata": {},
     "output_type": "execute_result"
    }
   ],
   "source": [
    "\"A \" *9"
   ]
  },
  {
   "cell_type": "markdown",
   "id": "f8fac4fc",
   "metadata": {},
   "source": [
    "### print formatting with string"
   ]
  },
  {
   "cell_type": "code",
   "execution_count": 129,
   "id": "7ae91644",
   "metadata": {},
   "outputs": [
    {
     "name": "stdout",
     "output_type": "stream",
     "text": [
      "Hello i'm python 3\n"
     ]
    }
   ],
   "source": [
    "print(\"Hello i'm {name} {version}\".format(name=\"python\",version= 3) )"
   ]
  },
  {
   "cell_type": "code",
   "execution_count": 130,
   "id": "2dbaafd4",
   "metadata": {},
   "outputs": [
    {
     "name": "stdout",
     "output_type": "stream",
     "text": [
      "Hello i'm python 3\n"
     ]
    }
   ],
   "source": [
    "print(\"Hello i'm {} {}\".format(\"python\",3) )"
   ]
  },
  {
   "cell_type": "code",
   "execution_count": 141,
   "id": "c92f88d3",
   "metadata": {},
   "outputs": [
    {
     "name": "stdout",
     "output_type": "stream",
     "text": [
      "the result is HELLO\n"
     ]
    }
   ],
   "source": [
    "print(\"the result is {r}\".format(r=\"hello\".upper()))"
   ]
  },
  {
   "cell_type": "code",
   "execution_count": 147,
   "id": "abc4cc90",
   "metadata": {},
   "outputs": [
    {
     "name": "stdout",
     "output_type": "stream",
     "text": [
      "the result is 333.33\n"
     ]
    }
   ],
   "source": [
    "print(\"the result is {r:1.2f}\".format(r=1000/3))"
   ]
  },
  {
   "cell_type": "code",
   "execution_count": 148,
   "id": "4c30b76b",
   "metadata": {},
   "outputs": [
    {
     "name": "stdout",
     "output_type": "stream",
     "text": [
      "hello, his name is JOSE\n"
     ]
    }
   ],
   "source": [
    "name=\"jose\"\n",
    "print(f'hello, his name is {name.upper()}')"
   ]
  },
  {
   "cell_type": "code",
   "execution_count": 149,
   "id": "4b1c562d",
   "metadata": {},
   "outputs": [],
   "source": [
    "result = 1000/3"
   ]
  },
  {
   "cell_type": "code",
   "execution_count": 155,
   "id": "913aacef",
   "metadata": {},
   "outputs": [
    {
     "name": "stdout",
     "output_type": "stream",
     "text": [
      "333.33\n"
     ]
    }
   ],
   "source": [
    "print(f'{result:1.2f}')"
   ]
  },
  {
   "cell_type": "code",
   "execution_count": null,
   "id": "d4f9a3ab",
   "metadata": {},
   "outputs": [],
   "source": []
  }
 ],
 "metadata": {
  "kernelspec": {
   "display_name": "Python 3 (ipykernel)",
   "language": "python",
   "name": "python3"
  },
  "language_info": {
   "codemirror_mode": {
    "name": "ipython",
    "version": 3
   },
   "file_extension": ".py",
   "mimetype": "text/x-python",
   "name": "python",
   "nbconvert_exporter": "python",
   "pygments_lexer": "ipython3",
   "version": "3.12.3"
  }
 },
 "nbformat": 4,
 "nbformat_minor": 5
}
