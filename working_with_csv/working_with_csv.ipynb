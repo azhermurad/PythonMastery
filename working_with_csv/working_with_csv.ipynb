{
 "cells": [
  {
   "cell_type": "code",
   "execution_count": 1,
   "metadata": {},
   "outputs": [],
   "source": [
    "import csv"
   ]
  },
  {
   "cell_type": "code",
   "execution_count": 66,
   "metadata": {},
   "outputs": [
    {
     "name": "stdout",
     "output_type": "stream",
     "text": [
      "Spam\tSpam\tSpam\tSpam\tSpam\tBaked Beans\n",
      "Spam\tSpam\tSpam\tSpam\tSpam\tBaked Beans\n",
      "Spam\tSpam\tSpam\tSpam\tSpam\tBaked Beans\n",
      "Spam\tSpam\tSpam\tSpam\tSpam\tBaked Beans\n",
      "Spam\tSpam\tSpam\tSpam\tSpam\tBaked Beans\n"
     ]
    }
   ],
   "source": [
    "with open(\"example.csv\", mode='r', newline='') as csv_file:\n",
    "    spamreader = csv.reader(csv_file, delimiter=',')\n",
    "    for row in spamreader:\n",
    "        print('\\t'.join(row))"
   ]
  },
  {
   "cell_type": "code",
   "execution_count": 58,
   "metadata": {},
   "outputs": [],
   "source": [
    "with open(\"example.csv\", mode='a', newline='') as csv_file:\n",
    "    spamwriter = csv.writer(csv_file,delimiter=',')\n",
    "    spamwriter.writerow(['Spam'] * 5 + ['Baked Beans'])\n",
    "   "
   ]
  },
  {
   "cell_type": "code",
   "execution_count": 59,
   "metadata": {},
   "outputs": [
    {
     "name": "stdout",
     "output_type": "stream",
     "text": [
      "Spam\tSpam\tSpam\tSpam\tSpam\tBaked Beans\n",
      "Spam\tSpam\tSpam\tSpam\tSpam\tBaked Beans\n",
      "Spam\tSpam\tSpam\tSpam\tSpam\tBaked Beans\n",
      "Spam\tSpam\tSpam\tSpam\tSpam\tBaked Beans\n",
      "Spam\tSpam\tSpam\tSpam\tSpam\tBaked Beans\n"
     ]
    }
   ],
   "source": [
    "with open(\"example.csv\", mode='r', newline='') as csv_file:\n",
    "    spamreader = csv.reader(csv_file, delimiter=',')\n",
    "    for row in spamreader:\n",
    "        print('\\t'.join(row))"
   ]
  },
  {
   "cell_type": "code",
   "execution_count": 67,
   "metadata": {},
   "outputs": [],
   "source": [
    "with open(\"example_one.csv\", mode='w', newline='') as csv_file:\n",
    "    spamwriter = csv.writer(csv_file,delimiter=',')\n",
    "    spamwriter.writerow(['Spam'] * 5 + ['Baked Beans'])"
   ]
  },
  {
   "cell_type": "code",
   "execution_count": null,
   "metadata": {},
   "outputs": [],
   "source": []
  }
 ],
 "metadata": {
  "kernelspec": {
   "display_name": "base",
   "language": "python",
   "name": "python3"
  },
  "language_info": {
   "codemirror_mode": {
    "name": "ipython",
    "version": 3
   },
   "file_extension": ".py",
   "mimetype": "text/x-python",
   "name": "python",
   "nbconvert_exporter": "python",
   "pygments_lexer": "ipython3",
   "version": "3.12.4"
  }
 },
 "nbformat": 4,
 "nbformat_minor": 2
}
